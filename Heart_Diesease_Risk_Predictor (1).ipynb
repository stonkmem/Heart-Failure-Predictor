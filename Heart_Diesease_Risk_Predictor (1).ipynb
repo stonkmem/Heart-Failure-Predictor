{
  "nbformat": 4,
  "nbformat_minor": 0,
  "metadata": {
    "colab": {
      "name": "Heart Diesease Risk Predictor.ipynb",
      "provenance": [],
      "collapsed_sections": []
    },
    "kernelspec": {
      "name": "python3",
      "display_name": "Python 3"
    },
    "language_info": {
      "name": "python"
    }
  },
  "cells": [
    {
      "cell_type": "markdown",
      "metadata": {
        "id": "vbpV6ye8obFn"
      },
      "source": [
        "Today, I will be making a Heart Disease Prediction machine based on data from: https://www.kaggle.com/ronitf/heart-disease-uci/version/1 \\\n",
        "Libraries:\n",
        "* Pandas (to read the data)\n",
        "* Tensorflow (for modelling)\n",
        "* Math because 9+10=212+2=3-1=4quikmafs"
      ]
    },
    {
      "cell_type": "code",
      "metadata": {
        "colab": {
          "base_uri": "https://localhost:8080/"
        },
        "id": "pocOQ2lIoEwQ",
        "outputId": "1fb756e5-57cc-4f28-f174-7c3c46a7e6f2"
      },
      "source": [
        "import pandas as pd\n",
        "import tensorflow as tf\n",
        "import tensorflow.keras\n",
        "import tensorflow.keras.layers\n",
        "import math\n",
        "print(\"Imported!\")"
      ],
      "execution_count": null,
      "outputs": [
        {
          "output_type": "stream",
          "name": "stdout",
          "text": [
            "Imported!\n"
          ]
        }
      ]
    },
    {
      "cell_type": "markdown",
      "metadata": {
        "id": "pf-CQ8-Poagn"
      },
      "source": [
        "#Importing data and cleaning it"
      ]
    },
    {
      "cell_type": "code",
      "metadata": {
        "colab": {
          "base_uri": "https://localhost:8080/"
        },
        "id": "K0v9sLMFoZ1N",
        "outputId": "a600a573-c864-441d-c43e-e6bd97625b78"
      },
      "source": [
        "ds = pd.read_csv('https://raw.githubusercontent.com/stonkmem/Heart-Failure-Predictor/main/heart.csv')\n",
        "ds = ds.sample(frac=1) #This shuffles the data\n",
        "x_p = ds[['age', 'sex', 'cp', 'trestbps', 'chol', 'fbs', 'restecg', 'thalach', 'exang', 'oldpeak', 'slope', 'ca', 'thal']]\n",
        "y_p = ds['target']\n",
        "x_total = x_p.to_numpy()\n",
        "y_total = y_p.to_numpy()\n",
        "x_train = x_total[:250]\n",
        "x_test = x_total[250:]\n",
        "y_train = y_total[:250]\n",
        "y_test = y_total[250:]\n",
        "y_test"
      ],
      "execution_count": null,
      "outputs": [
        {
          "output_type": "execute_result",
          "data": {
            "text/plain": [
              "array([0, 0, 0, 0, 1, 1, 0, 0, 1, 1, 0, 0, 0, 1, 1, 0, 1, 1, 1, 1, 1, 1,\n",
              "       1, 0, 1, 1, 1, 1, 0, 1, 1, 1, 0, 0, 1, 1, 0, 1, 0, 1, 0, 1, 0, 1,\n",
              "       0, 1, 1, 0, 1, 0, 0, 1, 0])"
            ]
          },
          "metadata": {},
          "execution_count": 3
        }
      ]
    },
    {
      "cell_type": "markdown",
      "metadata": {
        "id": "-GH3yuPOstHc"
      },
      "source": [
        "#Modelling"
      ]
    },
    {
      "cell_type": "code",
      "metadata": {
        "colab": {
          "base_uri": "https://localhost:8080/"
        },
        "id": "mCb6H93issw_",
        "outputId": "56499f66-4fb5-4511-9c7f-01e5ce431653"
      },
      "source": [
        "model = tensorflow.keras.Sequential([\n",
        "                          tensorflow.keras.layers.Flatten(),\n",
        "                          tensorflow.keras.layers.Dense(14, activation='relu'),\n",
        "                          tensorflow.keras.layers.Dense(5, activation='relu'),\n",
        "                          tensorflow.keras.layers.Dense(1, activation='sigmoid')\n",
        "])\n",
        "print(\"Made!\")\n",
        "class lossgobrrr(tensorflow.keras.callbacks.Callback):\n",
        "  def on_epoch_end(self, epoch, logs={}):\n",
        "    if (logs.get('loss')<0.05):\n",
        "      self.model.stop_training = True\n",
        "      print(\"UwU Loss low\")\n",
        "lossgobrr = lossgobrrr()\n",
        "model.compile(optimizer='Adam', loss=tf.keras.losses.binary_crossentropy, metrics=['accuracy'])\n",
        "print(\"Compiled!\")\n",
        "model.fit(x=x_train, y=y_train, epochs = 5000, callbacks=[lossgobrr], validation_split=0.1)\n",
        "print(\"Trained\")"
      ],
      "execution_count": 30,
      "outputs": [
        {
          "output_type": "stream",
          "name": "stdout",
          "text": [
            "Made!\n",
            "Compiled!\n",
            "Epoch 1/100\n",
            "8/8 [==============================] - 1s 20ms/step - loss: 2.2950 - accuracy: 0.4400 - val_loss: 1.7866 - val_accuracy: 0.4800\n",
            "Epoch 2/100\n",
            "8/8 [==============================] - 0s 4ms/step - loss: 1.3257 - accuracy: 0.5378 - val_loss: 1.2047 - val_accuracy: 0.5600\n",
            "Epoch 3/100\n",
            "8/8 [==============================] - 0s 4ms/step - loss: 0.9360 - accuracy: 0.5733 - val_loss: 1.0100 - val_accuracy: 0.5600\n",
            "Epoch 4/100\n",
            "8/8 [==============================] - 0s 4ms/step - loss: 0.8743 - accuracy: 0.6133 - val_loss: 1.0676 - val_accuracy: 0.5200\n",
            "Epoch 5/100\n",
            "8/8 [==============================] - 0s 4ms/step - loss: 0.8550 - accuracy: 0.6044 - val_loss: 0.9494 - val_accuracy: 0.6000\n",
            "Epoch 6/100\n",
            "8/8 [==============================] - 0s 4ms/step - loss: 0.7467 - accuracy: 0.6356 - val_loss: 0.8989 - val_accuracy: 0.6000\n",
            "Epoch 7/100\n",
            "8/8 [==============================] - 0s 4ms/step - loss: 0.7345 - accuracy: 0.6267 - val_loss: 0.8895 - val_accuracy: 0.6000\n",
            "Epoch 8/100\n",
            "8/8 [==============================] - 0s 5ms/step - loss: 0.7192 - accuracy: 0.6267 - val_loss: 0.8576 - val_accuracy: 0.6000\n",
            "Epoch 9/100\n",
            "8/8 [==============================] - 0s 4ms/step - loss: 0.6919 - accuracy: 0.6356 - val_loss: 0.8455 - val_accuracy: 0.6400\n",
            "Epoch 10/100\n",
            "8/8 [==============================] - 0s 4ms/step - loss: 0.6868 - accuracy: 0.6400 - val_loss: 0.8395 - val_accuracy: 0.6400\n",
            "Epoch 11/100\n",
            "8/8 [==============================] - 0s 4ms/step - loss: 0.6850 - accuracy: 0.6356 - val_loss: 0.8059 - val_accuracy: 0.6000\n",
            "Epoch 12/100\n",
            "8/8 [==============================] - 0s 4ms/step - loss: 0.6585 - accuracy: 0.6444 - val_loss: 0.7982 - val_accuracy: 0.6000\n",
            "Epoch 13/100\n",
            "8/8 [==============================] - 0s 4ms/step - loss: 0.6530 - accuracy: 0.6533 - val_loss: 0.7959 - val_accuracy: 0.6000\n",
            "Epoch 14/100\n",
            "8/8 [==============================] - 0s 4ms/step - loss: 0.6476 - accuracy: 0.6533 - val_loss: 0.7917 - val_accuracy: 0.6000\n",
            "Epoch 15/100\n",
            "8/8 [==============================] - 0s 4ms/step - loss: 0.6389 - accuracy: 0.6711 - val_loss: 0.8111 - val_accuracy: 0.6000\n",
            "Epoch 16/100\n",
            "8/8 [==============================] - 0s 4ms/step - loss: 0.6427 - accuracy: 0.6622 - val_loss: 0.7817 - val_accuracy: 0.6000\n",
            "Epoch 17/100\n",
            "8/8 [==============================] - 0s 4ms/step - loss: 0.6324 - accuracy: 0.6711 - val_loss: 0.7580 - val_accuracy: 0.6400\n",
            "Epoch 18/100\n",
            "8/8 [==============================] - 0s 4ms/step - loss: 0.6335 - accuracy: 0.6622 - val_loss: 0.7447 - val_accuracy: 0.6400\n",
            "Epoch 19/100\n",
            "8/8 [==============================] - 0s 4ms/step - loss: 0.5984 - accuracy: 0.7067 - val_loss: 0.7690 - val_accuracy: 0.6000\n",
            "Epoch 20/100\n",
            "8/8 [==============================] - 0s 4ms/step - loss: 0.6012 - accuracy: 0.7022 - val_loss: 0.8133 - val_accuracy: 0.5200\n",
            "Epoch 21/100\n",
            "8/8 [==============================] - 0s 4ms/step - loss: 0.6380 - accuracy: 0.6356 - val_loss: 0.7401 - val_accuracy: 0.5200\n",
            "Epoch 22/100\n",
            "8/8 [==============================] - 0s 4ms/step - loss: 0.6614 - accuracy: 0.6311 - val_loss: 0.7495 - val_accuracy: 0.6400\n",
            "Epoch 23/100\n",
            "8/8 [==============================] - 0s 4ms/step - loss: 0.6062 - accuracy: 0.6711 - val_loss: 0.7074 - val_accuracy: 0.4800\n",
            "Epoch 24/100\n",
            "8/8 [==============================] - 0s 4ms/step - loss: 0.6583 - accuracy: 0.6356 - val_loss: 0.7432 - val_accuracy: 0.5200\n",
            "Epoch 25/100\n",
            "8/8 [==============================] - 0s 5ms/step - loss: 0.5838 - accuracy: 0.7244 - val_loss: 0.6867 - val_accuracy: 0.5600\n",
            "Epoch 26/100\n",
            "8/8 [==============================] - 0s 4ms/step - loss: 0.6177 - accuracy: 0.6533 - val_loss: 0.6916 - val_accuracy: 0.6000\n",
            "Epoch 27/100\n",
            "8/8 [==============================] - 0s 4ms/step - loss: 0.5918 - accuracy: 0.6933 - val_loss: 0.6821 - val_accuracy: 0.6800\n",
            "Epoch 28/100\n",
            "8/8 [==============================] - 0s 3ms/step - loss: 0.5771 - accuracy: 0.7022 - val_loss: 0.7242 - val_accuracy: 0.6000\n",
            "Epoch 29/100\n",
            "8/8 [==============================] - 0s 4ms/step - loss: 0.5728 - accuracy: 0.7111 - val_loss: 0.7286 - val_accuracy: 0.5200\n",
            "Epoch 30/100\n",
            "8/8 [==============================] - 0s 4ms/step - loss: 0.5924 - accuracy: 0.6756 - val_loss: 0.7688 - val_accuracy: 0.5600\n",
            "Epoch 31/100\n",
            "8/8 [==============================] - 0s 4ms/step - loss: 0.5932 - accuracy: 0.7067 - val_loss: 0.7124 - val_accuracy: 0.6000\n",
            "Epoch 32/100\n",
            "8/8 [==============================] - 0s 4ms/step - loss: 0.5917 - accuracy: 0.6933 - val_loss: 0.7120 - val_accuracy: 0.6000\n",
            "Epoch 33/100\n",
            "8/8 [==============================] - 0s 4ms/step - loss: 0.5673 - accuracy: 0.7244 - val_loss: 0.7529 - val_accuracy: 0.5200\n",
            "Epoch 34/100\n",
            "8/8 [==============================] - 0s 4ms/step - loss: 0.6306 - accuracy: 0.6400 - val_loss: 0.7348 - val_accuracy: 0.6400\n",
            "Epoch 35/100\n",
            "8/8 [==============================] - 0s 4ms/step - loss: 0.5738 - accuracy: 0.7333 - val_loss: 0.7450 - val_accuracy: 0.6000\n",
            "Epoch 36/100\n",
            "8/8 [==============================] - 0s 4ms/step - loss: 0.5851 - accuracy: 0.6889 - val_loss: 0.8083 - val_accuracy: 0.6000\n",
            "Epoch 37/100\n",
            "8/8 [==============================] - 0s 4ms/step - loss: 0.5854 - accuracy: 0.6933 - val_loss: 0.7575 - val_accuracy: 0.5600\n",
            "Epoch 38/100\n",
            "8/8 [==============================] - 0s 4ms/step - loss: 0.5857 - accuracy: 0.7200 - val_loss: 0.7716 - val_accuracy: 0.5200\n",
            "Epoch 39/100\n",
            "8/8 [==============================] - 0s 4ms/step - loss: 0.5886 - accuracy: 0.7067 - val_loss: 0.7324 - val_accuracy: 0.5200\n",
            "Epoch 40/100\n",
            "8/8 [==============================] - 0s 4ms/step - loss: 0.5481 - accuracy: 0.7556 - val_loss: 0.7362 - val_accuracy: 0.6000\n",
            "Epoch 41/100\n",
            "8/8 [==============================] - 0s 4ms/step - loss: 0.5537 - accuracy: 0.7244 - val_loss: 0.7194 - val_accuracy: 0.6400\n",
            "Epoch 42/100\n",
            "8/8 [==============================] - 0s 4ms/step - loss: 0.5454 - accuracy: 0.7556 - val_loss: 0.7231 - val_accuracy: 0.6400\n",
            "Epoch 43/100\n",
            "8/8 [==============================] - 0s 4ms/step - loss: 0.5840 - accuracy: 0.6933 - val_loss: 0.7606 - val_accuracy: 0.6000\n",
            "Epoch 44/100\n",
            "8/8 [==============================] - 0s 4ms/step - loss: 0.5487 - accuracy: 0.7644 - val_loss: 0.7201 - val_accuracy: 0.5600\n",
            "Epoch 45/100\n",
            "8/8 [==============================] - 0s 4ms/step - loss: 0.5503 - accuracy: 0.7644 - val_loss: 0.7093 - val_accuracy: 0.6000\n",
            "Epoch 46/100\n",
            "8/8 [==============================] - 0s 4ms/step - loss: 0.5679 - accuracy: 0.7200 - val_loss: 0.7414 - val_accuracy: 0.5200\n",
            "Epoch 47/100\n",
            "8/8 [==============================] - 0s 4ms/step - loss: 0.5726 - accuracy: 0.7022 - val_loss: 0.6761 - val_accuracy: 0.6400\n",
            "Epoch 48/100\n",
            "8/8 [==============================] - 0s 4ms/step - loss: 0.5833 - accuracy: 0.6933 - val_loss: 0.6818 - val_accuracy: 0.6400\n",
            "Epoch 49/100\n",
            "8/8 [==============================] - 0s 4ms/step - loss: 0.5378 - accuracy: 0.7289 - val_loss: 0.6606 - val_accuracy: 0.6000\n",
            "Epoch 50/100\n",
            "8/8 [==============================] - 0s 4ms/step - loss: 0.5410 - accuracy: 0.7644 - val_loss: 0.6409 - val_accuracy: 0.6800\n",
            "Epoch 51/100\n",
            "8/8 [==============================] - 0s 4ms/step - loss: 0.5346 - accuracy: 0.7467 - val_loss: 0.6466 - val_accuracy: 0.6800\n",
            "Epoch 52/100\n",
            "8/8 [==============================] - 0s 4ms/step - loss: 0.5369 - accuracy: 0.7511 - val_loss: 0.6708 - val_accuracy: 0.5600\n",
            "Epoch 53/100\n",
            "8/8 [==============================] - 0s 4ms/step - loss: 0.5529 - accuracy: 0.7244 - val_loss: 0.6882 - val_accuracy: 0.5600\n",
            "Epoch 54/100\n",
            "8/8 [==============================] - 0s 5ms/step - loss: 0.5339 - accuracy: 0.7644 - val_loss: 0.6967 - val_accuracy: 0.6400\n",
            "Epoch 55/100\n",
            "8/8 [==============================] - 0s 5ms/step - loss: 0.5307 - accuracy: 0.7778 - val_loss: 0.7286 - val_accuracy: 0.6000\n",
            "Epoch 56/100\n",
            "8/8 [==============================] - 0s 5ms/step - loss: 0.5757 - accuracy: 0.6889 - val_loss: 0.7159 - val_accuracy: 0.6400\n",
            "Epoch 57/100\n",
            "8/8 [==============================] - 0s 4ms/step - loss: 0.5464 - accuracy: 0.7378 - val_loss: 0.6898 - val_accuracy: 0.5600\n",
            "Epoch 58/100\n",
            "8/8 [==============================] - 0s 5ms/step - loss: 0.5293 - accuracy: 0.7511 - val_loss: 0.6938 - val_accuracy: 0.6000\n",
            "Epoch 59/100\n",
            "8/8 [==============================] - 0s 4ms/step - loss: 0.5231 - accuracy: 0.7778 - val_loss: 0.6955 - val_accuracy: 0.5200\n",
            "Epoch 60/100\n",
            "8/8 [==============================] - 0s 4ms/step - loss: 0.5204 - accuracy: 0.7733 - val_loss: 0.7211 - val_accuracy: 0.6000\n",
            "Epoch 61/100\n",
            "8/8 [==============================] - 0s 4ms/step - loss: 0.5311 - accuracy: 0.7378 - val_loss: 0.6916 - val_accuracy: 0.6400\n",
            "Epoch 62/100\n",
            "8/8 [==============================] - 0s 4ms/step - loss: 0.5309 - accuracy: 0.7467 - val_loss: 0.7235 - val_accuracy: 0.5200\n",
            "Epoch 63/100\n",
            "8/8 [==============================] - 0s 5ms/step - loss: 0.6315 - accuracy: 0.6356 - val_loss: 0.7008 - val_accuracy: 0.5600\n",
            "Epoch 64/100\n",
            "8/8 [==============================] - 0s 4ms/step - loss: 0.5371 - accuracy: 0.7911 - val_loss: 0.6632 - val_accuracy: 0.6400\n",
            "Epoch 65/100\n",
            "8/8 [==============================] - 0s 4ms/step - loss: 0.5102 - accuracy: 0.7867 - val_loss: 0.6659 - val_accuracy: 0.6000\n",
            "Epoch 66/100\n",
            "8/8 [==============================] - 0s 4ms/step - loss: 0.5292 - accuracy: 0.7511 - val_loss: 0.6487 - val_accuracy: 0.6000\n",
            "Epoch 67/100\n",
            "8/8 [==============================] - 0s 4ms/step - loss: 0.5074 - accuracy: 0.7600 - val_loss: 0.6570 - val_accuracy: 0.6800\n",
            "Epoch 68/100\n",
            "8/8 [==============================] - 0s 4ms/step - loss: 0.5095 - accuracy: 0.7422 - val_loss: 0.6613 - val_accuracy: 0.6800\n",
            "Epoch 69/100\n",
            "8/8 [==============================] - 0s 4ms/step - loss: 0.5367 - accuracy: 0.7244 - val_loss: 0.6889 - val_accuracy: 0.6400\n",
            "Epoch 70/100\n",
            "8/8 [==============================] - 0s 4ms/step - loss: 0.5113 - accuracy: 0.7511 - val_loss: 0.6527 - val_accuracy: 0.5600\n",
            "Epoch 71/100\n",
            "8/8 [==============================] - 0s 4ms/step - loss: 0.5270 - accuracy: 0.7644 - val_loss: 0.6538 - val_accuracy: 0.6000\n",
            "Epoch 72/100\n",
            "8/8 [==============================] - 0s 4ms/step - loss: 0.5448 - accuracy: 0.7111 - val_loss: 0.7135 - val_accuracy: 0.6800\n",
            "Epoch 73/100\n",
            "8/8 [==============================] - 0s 4ms/step - loss: 0.5237 - accuracy: 0.7378 - val_loss: 0.6478 - val_accuracy: 0.6800\n",
            "Epoch 74/100\n",
            "8/8 [==============================] - 0s 4ms/step - loss: 0.4993 - accuracy: 0.7911 - val_loss: 0.6536 - val_accuracy: 0.6800\n",
            "Epoch 75/100\n",
            "8/8 [==============================] - 0s 4ms/step - loss: 0.4990 - accuracy: 0.7867 - val_loss: 0.6493 - val_accuracy: 0.6000\n",
            "Epoch 76/100\n",
            "8/8 [==============================] - 0s 4ms/step - loss: 0.4987 - accuracy: 0.7911 - val_loss: 0.6551 - val_accuracy: 0.5600\n",
            "Epoch 77/100\n",
            "8/8 [==============================] - 0s 4ms/step - loss: 0.5003 - accuracy: 0.7733 - val_loss: 0.6421 - val_accuracy: 0.6000\n",
            "Epoch 78/100\n",
            "8/8 [==============================] - 0s 8ms/step - loss: 0.4962 - accuracy: 0.7867 - val_loss: 0.6550 - val_accuracy: 0.5600\n",
            "Epoch 79/100\n",
            "8/8 [==============================] - 0s 5ms/step - loss: 0.5069 - accuracy: 0.7556 - val_loss: 0.6531 - val_accuracy: 0.5600\n",
            "Epoch 80/100\n",
            "8/8 [==============================] - 0s 4ms/step - loss: 0.4848 - accuracy: 0.7867 - val_loss: 0.6665 - val_accuracy: 0.6800\n",
            "Epoch 81/100\n",
            "8/8 [==============================] - 0s 4ms/step - loss: 0.5145 - accuracy: 0.7556 - val_loss: 0.6610 - val_accuracy: 0.6400\n",
            "Epoch 82/100\n",
            "8/8 [==============================] - 0s 4ms/step - loss: 0.5026 - accuracy: 0.7733 - val_loss: 0.6469 - val_accuracy: 0.6000\n",
            "Epoch 83/100\n",
            "8/8 [==============================] - 0s 4ms/step - loss: 0.4931 - accuracy: 0.7822 - val_loss: 0.6574 - val_accuracy: 0.6400\n",
            "Epoch 84/100\n",
            "8/8 [==============================] - 0s 4ms/step - loss: 0.5201 - accuracy: 0.7333 - val_loss: 0.6660 - val_accuracy: 0.6400\n",
            "Epoch 85/100\n",
            "8/8 [==============================] - 0s 4ms/step - loss: 0.4878 - accuracy: 0.7911 - val_loss: 0.6453 - val_accuracy: 0.6400\n",
            "Epoch 86/100\n",
            "8/8 [==============================] - 0s 4ms/step - loss: 0.5080 - accuracy: 0.7511 - val_loss: 0.6484 - val_accuracy: 0.7200\n",
            "Epoch 87/100\n",
            "8/8 [==============================] - 0s 4ms/step - loss: 0.4985 - accuracy: 0.7778 - val_loss: 0.6989 - val_accuracy: 0.6400\n",
            "Epoch 88/100\n",
            "8/8 [==============================] - 0s 4ms/step - loss: 0.5357 - accuracy: 0.7333 - val_loss: 0.6601 - val_accuracy: 0.6400\n",
            "Epoch 89/100\n",
            "8/8 [==============================] - 0s 4ms/step - loss: 0.4925 - accuracy: 0.7822 - val_loss: 0.6563 - val_accuracy: 0.6000\n",
            "Epoch 90/100\n",
            "8/8 [==============================] - 0s 4ms/step - loss: 0.5186 - accuracy: 0.7289 - val_loss: 0.6488 - val_accuracy: 0.6800\n",
            "Epoch 91/100\n",
            "8/8 [==============================] - 0s 4ms/step - loss: 0.4785 - accuracy: 0.7822 - val_loss: 0.6571 - val_accuracy: 0.6800\n",
            "Epoch 92/100\n",
            "8/8 [==============================] - 0s 5ms/step - loss: 0.5063 - accuracy: 0.7600 - val_loss: 0.6891 - val_accuracy: 0.5200\n",
            "Epoch 93/100\n",
            "8/8 [==============================] - 0s 4ms/step - loss: 0.4950 - accuracy: 0.7644 - val_loss: 0.6633 - val_accuracy: 0.6000\n",
            "Epoch 94/100\n",
            "8/8 [==============================] - 0s 4ms/step - loss: 0.4978 - accuracy: 0.7733 - val_loss: 0.6403 - val_accuracy: 0.6400\n",
            "Epoch 95/100\n",
            "8/8 [==============================] - 0s 4ms/step - loss: 0.4809 - accuracy: 0.8000 - val_loss: 0.6191 - val_accuracy: 0.6000\n",
            "Epoch 96/100\n",
            "8/8 [==============================] - 0s 4ms/step - loss: 0.4934 - accuracy: 0.8000 - val_loss: 0.6069 - val_accuracy: 0.6400\n",
            "Epoch 97/100\n",
            "8/8 [==============================] - 0s 4ms/step - loss: 0.4891 - accuracy: 0.7733 - val_loss: 0.6469 - val_accuracy: 0.6400\n",
            "Epoch 98/100\n",
            "8/8 [==============================] - 0s 4ms/step - loss: 0.4879 - accuracy: 0.7778 - val_loss: 0.6217 - val_accuracy: 0.6000\n",
            "Epoch 99/100\n",
            "8/8 [==============================] - 0s 4ms/step - loss: 0.4977 - accuracy: 0.7600 - val_loss: 0.6258 - val_accuracy: 0.6400\n",
            "Epoch 100/100\n",
            "8/8 [==============================] - 0s 4ms/step - loss: 0.5156 - accuracy: 0.7333 - val_loss: 0.6794 - val_accuracy: 0.7200\n",
            "Trained\n"
          ]
        }
      ]
    },
    {
      "cell_type": "markdown",
      "metadata": {
        "id": "h7OC4HDDz4nU"
      },
      "source": [
        "#ZE TEST!"
      ]
    },
    {
      "cell_type": "code",
      "metadata": {
        "colab": {
          "base_uri": "https://localhost:8080/"
        },
        "id": "KCwZL6eAz9nn",
        "outputId": "f9cb909e-c24d-45ad-be27-4cbbe83beefa"
      },
      "source": [
        "model.evaluate(x_test, y_test)"
      ],
      "execution_count": 31,
      "outputs": [
        {
          "output_type": "stream",
          "name": "stdout",
          "text": [
            "2/2 [==============================] - 0s 5ms/step - loss: 0.4996 - accuracy: 0.7358\n"
          ]
        },
        {
          "output_type": "execute_result",
          "data": {
            "text/plain": [
              "[0.4996461570262909, 0.7358490824699402]"
            ]
          },
          "metadata": {},
          "execution_count": 31
        }
      ]
    },
    {
      "cell_type": "code",
      "metadata": {
        "colab": {
          "base_uri": "https://localhost:8080/"
        },
        "id": "vwtT_GBS0cWd",
        "outputId": "3a2d8910-4cdd-4e5b-b7e5-60c75539b072"
      },
      "source": [
        "random_data = [[57, 1, 0, 150, 276, 0, 0, 112, 1, 0.6, 1, 1, 1]]\n",
        "print(round(model.predict(random_data)[0][0]))"
      ],
      "execution_count": 32,
      "outputs": [
        {
          "output_type": "stream",
          "name": "stdout",
          "text": [
            "0\n"
          ]
        }
      ]
    }
  ]
}